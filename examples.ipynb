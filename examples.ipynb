{
 "cells": [
  {
   "cell_type": "code",
   "execution_count": 15,
   "metadata": {},
   "outputs": [],
   "source": [
    "r = range(1000)      # sequnce\n",
    "g = (x for x in r)   # generator\n",
    "l = list(r)          # sequence\n",
    "i = iter(l)          # iterator"
   ]
  },
  {
   "cell_type": "markdown",
   "metadata": {},
   "source": [
    "Compare the size of sequence, generator and iterator"
   ]
  },
  {
   "cell_type": "code",
   "execution_count": 16,
   "metadata": {},
   "outputs": [
    {
     "name": "stdout",
     "output_type": "stream",
     "text": [
      "range: 48\n",
      "iter : 48\n",
      "gen  : 112\n",
      "seq  : 8056\n"
     ]
    }
   ],
   "source": [
    "import sys\n",
    "print('range:', sys.getsizeof(r))\n",
    "print('iter :', sys.getsizeof(i))\n",
    "print('gen  :', sys.getsizeof(g))\n",
    "print('seq  :', sys.getsizeof(l))"
   ]
  },
  {
   "cell_type": "markdown",
   "metadata": {},
   "source": [
    "Compare the attributes/methods of sequence, generator and iterator"
   ]
  },
  {
   "cell_type": "code",
   "execution_count": 17,
   "metadata": {},
   "outputs": [],
   "source": [
    "def attrs(obj):\n",
    "    return ', '.join(a for a in ['__iter__', '__len__', 'send'] if hasattr(obj, a))"
   ]
  },
  {
   "cell_type": "code",
   "execution_count": 18,
   "metadata": {},
   "outputs": [
    {
     "name": "stdout",
     "output_type": "stream",
     "text": [
      "range: __iter__, __len__\n",
      "iter : __iter__\n",
      "gen  : __iter__, send\n",
      "seq  : __iter__, __len__\n"
     ]
    }
   ],
   "source": [
    "print('range:', attrs(r))\n",
    "print('iter :', attrs(i))\n",
    "print('gen  :', attrs(g))\n",
    "print('seq  :', attrs(l))"
   ]
  },
  {
   "cell_type": "code",
   "execution_count": 19,
   "metadata": {},
   "outputs": [],
   "source": [
    "# simple example for yield from and multiple yields\n",
    "def gen():    \n",
    "    yield from [1 , 2, 3]\n",
    "    yield from [4, 5]"
   ]
  },
  {
   "cell_type": "code",
   "execution_count": 20,
   "metadata": {},
   "outputs": [
    {
     "data": {
      "text/plain": [
       "[1, 2, 3, 4, 5]"
      ]
     },
     "execution_count": 20,
     "metadata": {},
     "output_type": "execute_result"
    }
   ],
   "source": [
    "list(gen())"
   ]
  },
  {
   "cell_type": "code",
   "execution_count": 21,
   "metadata": {},
   "outputs": [
    {
     "data": {
      "text/plain": [
       "['011-generators', 'generators']"
      ]
     },
     "execution_count": 21,
     "metadata": {},
     "output_type": "execute_result"
    }
   ],
   "source": [
    "# a grep-like function. Here the eager implementation.\n",
    "def find(query, pat='*.*'):\n",
    "    from glob import glob\n",
    "    hits = []    \n",
    "    for filepath in glob(pat):\n",
    "        with open(filepath) as lines:\n",
    "            for line in lines:\n",
    "                for word in line.split():\n",
    "                    if query in word.lower():\n",
    "                        hits.append(word)\n",
    "    return hits                        \n",
    "find('generator', '*.md')                        "
   ]
  },
  {
   "cell_type": "raw",
   "metadata": {},
   "source": [
    "Decomposition of a complex nested chain of for-loops"
   ]
  },
  {
   "cell_type": "code",
   "execution_count": 22,
   "metadata": {},
   "outputs": [
    {
     "data": {
      "text/plain": [
       "['011-generators', 'generators']"
      ]
     },
     "execution_count": 22,
     "metadata": {},
     "output_type": "execute_result"
    }
   ],
   "source": [
    "def filepaths(pat='*.*'):\n",
    "    from glob import glob\n",
    "    return glob(pat)\n",
    "\n",
    "def lines(filepaths):\n",
    "    for filepath in filepaths:\n",
    "        with open(filepath) as lines:\n",
    "            yield from lines\n",
    "\n",
    "def words(lines):\n",
    "    for line in lines: \n",
    "        yield from line.split()\n",
    "        \n",
    "def find(query, pat='*.*'):\n",
    "    ws = words(lines(filepaths(pat)))\n",
    "    return (w for w in ws if query in w)\n",
    "\n",
    "list(find('generator', '*.md'))"
   ]
  },
  {
   "cell_type": "markdown",
   "metadata": {},
   "source": [
    "The same code with nutsflow"
   ]
  },
  {
   "cell_type": "code",
   "execution_count": 35,
   "metadata": {},
   "outputs": [
    {
     "data": {
      "text/plain": [
       "['011-generators', 'generators']"
      ]
     },
     "execution_count": 35,
     "metadata": {},
     "output_type": "execute_result"
    }
   ],
   "source": [
    "from nutsflow import *\n",
    "from glob import glob\n",
    "\n",
    "@nut_processor\n",
    "def lines(filepaths):\n",
    "    for filepath in filepaths:\n",
    "        yield from open(filepath)\n",
    "      \n",
    "@nut_processor    \n",
    "def words(lines):\n",
    "    for line in lines: \n",
    "        yield from line.split()  \n",
    "           \n",
    "def find(query, pat='*.*'):            \n",
    "    return glob('*.md') >> lines() >> words() >> Filter(lambda w: query in w) >> Collect()\n",
    "\n",
    "find('generator', '*.md')"
   ]
  },
  {
   "cell_type": "code",
   "execution_count": 24,
   "metadata": {},
   "outputs": [],
   "source": [
    "nums = [-2, -1, 0, 3, 4]"
   ]
  },
  {
   "cell_type": "code",
   "execution_count": 25,
   "metadata": {},
   "outputs": [
    {
     "data": {
      "text/plain": [
       "<generator object absolutes.<locals>.<genexpr> at 0x0000026D24CA1740>"
      ]
     },
     "execution_count": 25,
     "metadata": {},
     "output_type": "execute_result"
    }
   ],
   "source": [
    "def absolutes(nums):\n",
    "    return (abs(n) for n in nums)\n",
    "absolutes(nums)"
   ]
  },
  {
   "cell_type": "code",
   "execution_count": 26,
   "metadata": {},
   "outputs": [
    {
     "data": {
      "text/plain": [
       "<generator object absolutes at 0x0000026D24E554A0>"
      ]
     },
     "execution_count": 26,
     "metadata": {},
     "output_type": "execute_result"
    }
   ],
   "source": [
    "def absolutes(nums):\n",
    "    for n in nums:\n",
    "        yield abs(n)\n",
    "absolutes(nums)"
   ]
  },
  {
   "cell_type": "code",
   "execution_count": 32,
   "metadata": {},
   "outputs": [
    {
     "data": {
      "text/plain": [
       "[1, 2, 3, 4]"
      ]
     },
     "execution_count": 32,
     "metadata": {},
     "output_type": "execute_result"
    }
   ],
   "source": [
    "class absolutes:\n",
    "    def __init__(self, nums):\n",
    "        self.nums = iter(nums)\n",
    "    def __iter__(self):\n",
    "        return self\n",
    "    def __next__(self):\n",
    "        while not (n:=next(self.nums)):\n",
    "            pass\n",
    "        return abs(n)\n",
    "\n",
    "list(absolutes([-1, -2, 0, 3, 4]))"
   ]
  },
  {
   "cell_type": "code",
   "execution_count": 28,
   "metadata": {},
   "outputs": [
    {
     "data": {
      "text/plain": [
       "[1, 2, 3, 4, 5]"
      ]
     },
     "execution_count": 28,
     "metadata": {},
     "output_type": "execute_result"
    }
   ],
   "source": [
    "def flatten(xs):\n",
    "    if isinstance(xs, list):\n",
    "        for x in xs:\n",
    "            yield from flatten(x)\n",
    "    else:\n",
    "        yield xs\n",
    "        \n",
    "# flatten without \"yield from\"        \n",
    "def flatten2(xs):\n",
    "    if isinstance(xs, list):\n",
    "        for x in xs:\n",
    "            for r in flatten(x):\n",
    "                yield r\n",
    "    else:\n",
    "        yield xs        \n",
    "        \n",
    "def take(iterable, n):\n",
    "    return [next(iterable) for _ in range(n)]\n",
    "\n",
    "f = flatten([1, [2, 3, [4]], 5])\n",
    "list(f)"
   ]
  },
  {
   "cell_type": "code",
   "execution_count": 29,
   "metadata": {},
   "outputs": [],
   "source": [
    "# using list comprehension\n",
    "def flatten(xs):\n",
    "    if isinstance(xs, list):\n",
    "        return [y for x in xs for y in flatten(x)]  \n",
    "    return [xs]"
   ]
  },
  {
   "cell_type": "code",
   "execution_count": 30,
   "metadata": {},
   "outputs": [
    {
     "data": {
      "text/plain": [
       "[1, 2, 3, 4, 5]"
      ]
     },
     "execution_count": 30,
     "metadata": {},
     "output_type": "execute_result"
    }
   ],
   "source": [
    "flatten([1, [2, 3, [4]], 5])"
   ]
  },
  {
   "cell_type": "code",
   "execution_count": null,
   "metadata": {},
   "outputs": [],
   "source": []
  }
 ],
 "metadata": {
  "kernelspec": {
   "display_name": "Python 3",
   "language": "python",
   "name": "python3"
  },
  "language_info": {
   "codemirror_mode": {
    "name": "ipython",
    "version": 3
   },
   "file_extension": ".py",
   "mimetype": "text/x-python",
   "name": "python",
   "nbconvert_exporter": "python",
   "pygments_lexer": "ipython3",
   "version": "3.8.5"
  }
 },
 "nbformat": 4,
 "nbformat_minor": 4
}
